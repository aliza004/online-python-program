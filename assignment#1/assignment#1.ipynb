{
 "cells": [
  {
   "cell_type": "code",
   "execution_count": 1,
   "id": "8ada7dbb",
   "metadata": {},
   "outputs": [
    {
     "name": "stdout",
     "output_type": "stream",
     "text": [
      "      Twinkle, twinkle, little star,\n",
      "               How I wonder what you are!\n",
      "                       Up above the world so high,\n",
      "                       Like a diamond in the sky.\n",
      "      Twinkle, twinkle, little star,\n",
      "               How I wonder what you are!\n"
     ]
    }
   ],
   "source": [
    "t=\"      Twinkle, twinkle, little star,\";\n",
    "w=\"               How I wonder what you are!\";\n",
    "print(t);\n",
    "print(w);\n",
    "print(\"                       Up above the world so high,\");\n",
    "print(\"                       Like a diamond in the sky.\");\n",
    "print(t);\n",
    "print(w);"
   ]
  },
  {
   "cell_type": "code",
   "execution_count": 2,
   "id": "abb356c5",
   "metadata": {},
   "outputs": [
    {
     "name": "stdout",
     "output_type": "stream",
     "text": [
      "The version you are using is: 3.9.7\n"
     ]
    }
   ],
   "source": [
    "import platform;\n",
    "print(f\"The version you are using is: {platform.python_version()}\");"
   ]
  },
  {
   "cell_type": "code",
   "execution_count": 3,
   "id": "49467703",
   "metadata": {},
   "outputs": [
    {
     "name": "stdout",
     "output_type": "stream",
     "text": [
      "Current date and time:\n",
      "2022-01-01 21:40:02.741502 \n"
     ]
    }
   ],
   "source": [
    "from datetime import datetime;\n",
    "dt = datetime.now();\n",
    "print(f\"Current date and time:\\n{dt} \");"
   ]
  },
  {
   "cell_type": "code",
   "execution_count": 4,
   "id": "80b1c6b1",
   "metadata": {},
   "outputs": [
    {
     "name": "stdout",
     "output_type": "stream",
     "text": [
      "Enter Radius:\n",
      "7\n",
      "The area is: \n",
      "153.94\n"
     ]
    }
   ],
   "source": [
    "pi=3.141592653589793238462643 ;\n",
    "radius=float(input(\"Enter Radius:\\n\"));\n",
    "area=pi*(radius**2);\n",
    "print(f\"The area is: \\n{round(area, 2)}\");"
   ]
  },
  {
   "cell_type": "code",
   "execution_count": 5,
   "id": "1007541f",
   "metadata": {},
   "outputs": [
    {
     "name": "stdout",
     "output_type": "stream",
     "text": [
      "First name:\n",
      "aliza\n",
      "Last name:\n",
      "kamran\n",
      "narmak azila\n"
     ]
    }
   ],
   "source": [
    "fn=input(\"First name:\\n\");\n",
    "ln=input(\"Last name:\\n\");\n",
    "full=(f\"{fn} {ln}\");\n",
    "print(full[::-1]);"
   ]
  },
  {
   "cell_type": "code",
   "execution_count": 6,
   "id": "1e8f5392",
   "metadata": {},
   "outputs": [
    {
     "name": "stdout",
     "output_type": "stream",
     "text": [
      "Enter Value# 1\n",
      "5\n",
      "Enter Value# 2\n",
      "9\n",
      "The answer is: 14\n"
     ]
    }
   ],
   "source": [
    "n1=int(input(\"Enter Value# 1\\n\"));\n",
    "n2=int(input(\"Enter Value# 2\\n\"));\n",
    "print(f\"The answer is: {n1+n2}\");"
   ]
  },
  {
   "cell_type": "code",
   "execution_count": null,
   "id": "ca7870d7",
   "metadata": {},
   "outputs": [],
   "source": []
  }
 ],
 "metadata": {
  "kernelspec": {
   "display_name": "Python 3 (ipykernel)",
   "language": "python",
   "name": "python3"
  },
  "language_info": {
   "codemirror_mode": {
    "name": "ipython",
    "version": 3
   },
   "file_extension": ".py",
   "mimetype": "text/x-python",
   "name": "python",
   "nbconvert_exporter": "python",
   "pygments_lexer": "ipython3",
   "version": "3.9.7"
  }
 },
 "nbformat": 4,
 "nbformat_minor": 5
}
